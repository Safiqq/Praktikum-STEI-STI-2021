{
 "cells": [
  {
   "cell_type": "code",
   "execution_count": 1,
   "metadata": {},
   "outputs": [],
   "source": [
    "# NIM/Nama  : 16521432/Syafiq Ziyadul Arifin\n",
    "# Tanggal   : 29 November 2021\n",
    "\n",
    "import pandas as pd\n",
    "\n",
    "# Pandas akan membaca file H05.csv yang berada di folder Downloads\n",
    "df = pd.read_csv(\"C:/Users/safiq/Downloads/H05.csv\")"
   ]
  },
  {
   "cell_type": "code",
   "execution_count": 2,
   "metadata": {},
   "outputs": [
    {
     "data": {
      "text/html": [
       "<div>\n",
       "<style scoped>\n",
       "    .dataframe tbody tr th:only-of-type {\n",
       "        vertical-align: middle;\n",
       "    }\n",
       "\n",
       "    .dataframe tbody tr th {\n",
       "        vertical-align: top;\n",
       "    }\n",
       "\n",
       "    .dataframe thead th {\n",
       "        text-align: right;\n",
       "    }\n",
       "</style>\n",
       "<table border=\"1\" class=\"dataframe\">\n",
       "  <thead>\n",
       "    <tr style=\"text-align: right;\">\n",
       "      <th></th>\n",
       "      <th>nama</th>\n",
       "      <th>fakultas</th>\n",
       "      <th>nilai_mat</th>\n",
       "      <th>nilai_kim</th>\n",
       "      <th>nilai_fis</th>\n",
       "    </tr>\n",
       "  </thead>\n",
       "  <tbody>\n",
       "    <tr>\n",
       "      <th>3513</th>\n",
       "      <td>Tuan Ric</td>\n",
       "      <td>STEI</td>\n",
       "      <td>96.78</td>\n",
       "      <td>62.23</td>\n",
       "      <td>30.53</td>\n",
       "    </tr>\n",
       "  </tbody>\n",
       "</table>\n",
       "</div>"
      ],
      "text/plain": [
       "          nama fakultas  nilai_mat  nilai_kim  nilai_fis\n",
       "3513  Tuan Ric     STEI      96.78      62.23      30.53"
      ]
     },
     "execution_count": 2,
     "metadata": {},
     "output_type": "execute_result"
    }
   ],
   "source": [
    "# 1. Menampilkan data milik Tuan Ric\n",
    "df.loc[df[\"nama\"] == \"Tuan Ric\"]"
   ]
  },
  {
   "cell_type": "code",
   "execution_count": 3,
   "metadata": {},
   "outputs": [
    {
     "data": {
      "text/html": [
       "<div>\n",
       "<style scoped>\n",
       "    .dataframe tbody tr th:only-of-type {\n",
       "        vertical-align: middle;\n",
       "    }\n",
       "\n",
       "    .dataframe tbody tr th {\n",
       "        vertical-align: top;\n",
       "    }\n",
       "\n",
       "    .dataframe thead th {\n",
       "        text-align: right;\n",
       "    }\n",
       "</style>\n",
       "<table border=\"1\" class=\"dataframe\">\n",
       "  <thead>\n",
       "    <tr style=\"text-align: right;\">\n",
       "      <th></th>\n",
       "      <th>nama</th>\n",
       "      <th>fakultas</th>\n",
       "      <th>nilai_mat</th>\n",
       "      <th>nilai_kim</th>\n",
       "      <th>nilai_fis</th>\n",
       "    </tr>\n",
       "  </thead>\n",
       "  <tbody>\n",
       "    <tr>\n",
       "      <th>1936</th>\n",
       "      <td>Yuniar Fazriani Rusmana</td>\n",
       "      <td>FITB</td>\n",
       "      <td>53.61</td>\n",
       "      <td>67.19</td>\n",
       "      <td>92.57</td>\n",
       "    </tr>\n",
       "  </tbody>\n",
       "</table>\n",
       "</div>"
      ],
      "text/plain": [
       "                         nama fakultas  nilai_mat  nilai_kim  nilai_fis\n",
       "1936  Yuniar Fazriani Rusmana     FITB      53.61      67.19      92.57"
      ]
     },
     "execution_count": 3,
     "metadata": {},
     "output_type": "execute_result"
    }
   ],
   "source": [
    "# 2. Menampilkan data dengan nilai fisika tertinggi (bisa lebih dari 1 data)\n",
    "df.loc[df[\"nilai_fis\"] == df[\"nilai_fis\"].max()]"
   ]
  },
  {
   "cell_type": "code",
   "execution_count": 4,
   "metadata": {},
   "outputs": [
    {
     "data": {
      "text/html": [
       "<div>\n",
       "<style scoped>\n",
       "    .dataframe tbody tr th:only-of-type {\n",
       "        vertical-align: middle;\n",
       "    }\n",
       "\n",
       "    .dataframe tbody tr th {\n",
       "        vertical-align: top;\n",
       "    }\n",
       "\n",
       "    .dataframe thead th {\n",
       "        text-align: right;\n",
       "    }\n",
       "</style>\n",
       "<table border=\"1\" class=\"dataframe\">\n",
       "  <thead>\n",
       "    <tr style=\"text-align: right;\">\n",
       "      <th></th>\n",
       "      <th>nama</th>\n",
       "      <th>fakultas</th>\n",
       "      <th>nilai_mat</th>\n",
       "      <th>nilai_kim</th>\n",
       "      <th>nilai_fis</th>\n",
       "    </tr>\n",
       "  </thead>\n",
       "  <tbody>\n",
       "    <tr>\n",
       "      <th>2554</th>\n",
       "      <td>Faathir Reza Avicena</td>\n",
       "      <td>FTSL</td>\n",
       "      <td>57.12</td>\n",
       "      <td>81.50</td>\n",
       "      <td>78.68</td>\n",
       "    </tr>\n",
       "    <tr>\n",
       "      <th>2779</th>\n",
       "      <td>Dinda A A Z Mundakir</td>\n",
       "      <td>STEI</td>\n",
       "      <td>41.18</td>\n",
       "      <td>81.34</td>\n",
       "      <td>82.60</td>\n",
       "    </tr>\n",
       "    <tr>\n",
       "      <th>3544</th>\n",
       "      <td>Tammya Ayu Purnomo</td>\n",
       "      <td>SITHS</td>\n",
       "      <td>74.49</td>\n",
       "      <td>81.20</td>\n",
       "      <td>78.58</td>\n",
       "    </tr>\n",
       "    <tr>\n",
       "      <th>4934</th>\n",
       "      <td>Alyssa Nadhira Windari</td>\n",
       "      <td>FTMD</td>\n",
       "      <td>78.38</td>\n",
       "      <td>78.83</td>\n",
       "      <td>78.68</td>\n",
       "    </tr>\n",
       "    <tr>\n",
       "      <th>1137</th>\n",
       "      <td>Izni Nur Ibrahim</td>\n",
       "      <td>STEI</td>\n",
       "      <td>56.70</td>\n",
       "      <td>78.46</td>\n",
       "      <td>84.34</td>\n",
       "    </tr>\n",
       "    <tr>\n",
       "      <th>2262</th>\n",
       "      <td>Rinaldi Oky Setiawan</td>\n",
       "      <td>STEI</td>\n",
       "      <td>71.22</td>\n",
       "      <td>77.44</td>\n",
       "      <td>83.66</td>\n",
       "    </tr>\n",
       "    <tr>\n",
       "      <th>4070</th>\n",
       "      <td>Ias Azhari Rezkyarno</td>\n",
       "      <td>FMIPA</td>\n",
       "      <td>62.85</td>\n",
       "      <td>76.90</td>\n",
       "      <td>81.52</td>\n",
       "    </tr>\n",
       "    <tr>\n",
       "      <th>2945</th>\n",
       "      <td>Klara Petra T T</td>\n",
       "      <td>FTSL</td>\n",
       "      <td>73.39</td>\n",
       "      <td>76.61</td>\n",
       "      <td>78.12</td>\n",
       "    </tr>\n",
       "    <tr>\n",
       "      <th>1788</th>\n",
       "      <td>Naudy Germanimo Laksmana</td>\n",
       "      <td>FTMD</td>\n",
       "      <td>62.29</td>\n",
       "      <td>76.38</td>\n",
       "      <td>76.15</td>\n",
       "    </tr>\n",
       "    <tr>\n",
       "      <th>1310</th>\n",
       "      <td>Mardliyahtur Rohmah</td>\n",
       "      <td>STEI</td>\n",
       "      <td>63.15</td>\n",
       "      <td>76.36</td>\n",
       "      <td>74.06</td>\n",
       "    </tr>\n",
       "  </tbody>\n",
       "</table>\n",
       "</div>"
      ],
      "text/plain": [
       "                          nama fakultas  nilai_mat  nilai_kim  nilai_fis\n",
       "2554      Faathir Reza Avicena     FTSL      57.12      81.50      78.68\n",
       "2779      Dinda A A Z Mundakir     STEI      41.18      81.34      82.60\n",
       "3544        Tammya Ayu Purnomo    SITHS      74.49      81.20      78.58\n",
       "4934    Alyssa Nadhira Windari     FTMD      78.38      78.83      78.68\n",
       "1137          Izni Nur Ibrahim     STEI      56.70      78.46      84.34\n",
       "2262      Rinaldi Oky Setiawan     STEI      71.22      77.44      83.66\n",
       "4070      Ias Azhari Rezkyarno    FMIPA      62.85      76.90      81.52\n",
       "2945           Klara Petra T T     FTSL      73.39      76.61      78.12\n",
       "1788  Naudy Germanimo Laksmana     FTMD      62.29      76.38      76.15\n",
       "1310       Mardliyahtur Rohmah     STEI      63.15      76.36      74.06"
      ]
     },
     "execution_count": 4,
     "metadata": {},
     "output_type": "execute_result"
    }
   ],
   "source": [
    "# 3. Menampilkan 10 data, diurutkan dari nilai kimia yang terbesar\n",
    "df.sort_values([\"nilai_kim\"], ascending=[0])[:10]"
   ]
  },
  {
   "cell_type": "code",
   "execution_count": 5,
   "metadata": {},
   "outputs": [
    {
     "data": {
      "text/plain": [
       "329"
      ]
     },
     "execution_count": 5,
     "metadata": {},
     "output_type": "execute_result"
    }
   ],
   "source": [
    "# 4. Menghitung banyak mahasiswa yang mendapat nilai matematika di bawah 50\n",
    "len(df.loc[df[\"nilai_mat\"] < 50])"
   ]
  },
  {
   "cell_type": "code",
   "execution_count": 6,
   "metadata": {},
   "outputs": [
    {
     "data": {
      "text/plain": [
       "627"
      ]
     },
     "execution_count": 6,
     "metadata": {},
     "output_type": "execute_result"
    }
   ],
   "source": [
    "# 5. Menghitung banyak mahasiswa dengan fakultas FMIPA\n",
    "len(df.loc[df[\"fakultas\"] == \"FMIPA\"])"
   ]
  }
 ],
 "metadata": {
  "kernelspec": {
   "display_name": "Python 3.9.13 64-bit (windows store)",
   "language": "python",
   "name": "python3"
  },
  "language_info": {
   "codemirror_mode": {
    "name": "ipython",
    "version": 3
   },
   "file_extension": ".py",
   "mimetype": "text/x-python",
   "name": "python",
   "nbconvert_exporter": "python",
   "pygments_lexer": "ipython3",
   "version": "3.9.13"
  },
  "orig_nbformat": 4,
  "vscode": {
   "interpreter": {
    "hash": "63d52903378c0cf6b2a2f71dbce3ce447e490eb27d0b838284b9c4b8ffffb414"
   }
  }
 },
 "nbformat": 4,
 "nbformat_minor": 2
}
