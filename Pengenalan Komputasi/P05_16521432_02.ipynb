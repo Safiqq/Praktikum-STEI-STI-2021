{
 "cells": [
  {
   "cell_type": "code",
   "execution_count": 46,
   "metadata": {},
   "outputs": [],
   "source": [
    "# NIM/Nama  : 16521432/Syafiq Ziyadul Arifin\n",
    "# Tanggal   : 1 Desember 2021\n",
    "# Deskripsi : Diberikan data rumah yang disewakan di Brazil\n",
    "# Judul     : Problem 2 Praktikum 5 Praktikum Pengenalan Komputasi Pengantar 2021-2022\n",
    "\n",
    "# Kamus\n",
    "# import pandas as pd: mengimpor library pandas dan meng-assign pandas sebagai pd untuk digunakan\n",
    "# df: variabel yang membaca data \"P05-02.csv\"\n",
    "# .read_csv(): membaca data\n",
    "# len(): menentukan panjang data\n",
    "# .loc(): menampilkan data tertentu\n",
    "# .idxmax(): mencari index untuk nilai maksimum\n",
    "# .value_counts(): membaca banyaknya data sesuai dengan nilai tiap data\n",
    "# .sort_values(): mengurutkan data sesuai dengan kolom tertentu\n",
    "# ascending: menentukan cara mengurutkan data (menurun atau menaik)\n",
    "\n",
    "# Mulai\n",
    "\n",
    "# Kita mulai dengan mengimpor modul pandas dan data csv tersebut\n",
    "import pandas as pd\n",
    "df = pd.read_csv(\"C:/Users/safiq/Downloads/P05-02.csv\")"
   ]
  },
  {
   "cell_type": "code",
   "execution_count": 47,
   "metadata": {},
   "outputs": [
    {
     "name": "stdout",
     "output_type": "stream",
     "text": [
      "Ada 4936 rumah yang mengizinkan membawa hewan peliharaan dengan harga sewa per tahun di bawah 5000\n"
     ]
    }
   ],
   "source": [
    "# 1. Ada berapa rumah yang mengizinkan membawa hewan peliharaan dengan harga sewa per tahun di bawah 5000?\n",
    "print(\"Ada\", len(df.loc[(df[\"animal\"] == \"acept\") & (df[\"rent_amount\"] < 5000)]), \"rumah yang mengizinkan membawa hewan peliharaan dengan harga sewa per tahun di bawah 5000\")"
   ]
  },
  {
   "cell_type": "code",
   "execution_count": 48,
   "metadata": {},
   "outputs": [
    {
     "data": {
      "text/html": [
       "<div>\n",
       "<style scoped>\n",
       "    .dataframe tbody tr th:only-of-type {\n",
       "        vertical-align: middle;\n",
       "    }\n",
       "\n",
       "    .dataframe tbody tr th {\n",
       "        vertical-align: top;\n",
       "    }\n",
       "\n",
       "    .dataframe thead th {\n",
       "        text-align: right;\n",
       "    }\n",
       "</style>\n",
       "<table border=\"1\" class=\"dataframe\">\n",
       "  <thead>\n",
       "    <tr style=\"text-align: right;\">\n",
       "      <th></th>\n",
       "      <th>city</th>\n",
       "      <th>area</th>\n",
       "      <th>rooms</th>\n",
       "      <th>bathroom</th>\n",
       "      <th>parking_spaces</th>\n",
       "      <th>floor</th>\n",
       "      <th>animal</th>\n",
       "      <th>furniture</th>\n",
       "      <th>homeowner_tax</th>\n",
       "      <th>rent_amount</th>\n",
       "      <th>property_tax</th>\n",
       "      <th>fire_insurance</th>\n",
       "      <th>total</th>\n",
       "    </tr>\n",
       "  </thead>\n",
       "  <tbody>\n",
       "    <tr>\n",
       "      <th>319</th>\n",
       "      <td>Sao Paulo</td>\n",
       "      <td>900</td>\n",
       "      <td>4</td>\n",
       "      <td>9</td>\n",
       "      <td>8</td>\n",
       "      <td>1</td>\n",
       "      <td>acept</td>\n",
       "      <td>not furnished</td>\n",
       "      <td>0</td>\n",
       "      <td>15000</td>\n",
       "      <td>5700</td>\n",
       "      <td>226</td>\n",
       "      <td>20930</td>\n",
       "    </tr>\n",
       "  </tbody>\n",
       "</table>\n",
       "</div>"
      ],
      "text/plain": [
       "          city  area  rooms  bathroom  parking_spaces  floor animal  \\\n",
       "319  Sao Paulo   900      4         9               8      1  acept   \n",
       "\n",
       "         furniture  homeowner_tax  rent_amount  property_tax  fire_insurance  \\\n",
       "319  not furnished              0        15000          5700             226   \n",
       "\n",
       "     total  \n",
       "319  20930  "
      ]
     },
     "execution_count": 48,
     "metadata": {},
     "output_type": "execute_result"
    }
   ],
   "source": [
    "# 2. Data rumah dengan jumlah kamar mandi terbanyak\n",
    "df[df[\"bathroom\"].idxmax():df[\"bathroom\"].idxmax()+1]"
   ]
  },
  {
   "cell_type": "code",
   "execution_count": 49,
   "metadata": {},
   "outputs": [
    {
     "name": "stdout",
     "output_type": "stream",
     "text": [
      "Ada 979 rumah dengan luas di atas 200 dan pajak bangunan per tahun di bawah 1700\n"
     ]
    }
   ],
   "source": [
    "# 3. Ada berapa rumah dengan luas di atas 200 dan pajak bangunan per tahun di bawah 1700?\n",
    "print(\"Ada\", len(df.loc[(df[\"area\"] > 200) & (df[\"property_tax\"] < 1700)]), \"rumah dengan luas di atas 200 dan pajak bangunan per tahun di bawah 1700\")"
   ]
  },
  {
   "cell_type": "code",
   "execution_count": 50,
   "metadata": {},
   "outputs": [
    {
     "data": {
      "text/plain": [
       "Sao Paulo         1095\n",
       "Rio de Janeiro     196\n",
       "Belo Horizonte     117\n",
       "Porto Alegre        48\n",
       "Campinas            34\n",
       "Name: city, dtype: int64"
      ]
     },
     "execution_count": 50,
     "metadata": {},
     "output_type": "execute_result"
    }
   ],
   "source": [
    "# 4. Banyak rumah dengan biaya asuransi kebakaran per tahun di atas 70 untuk masing-masing kota\n",
    "df.loc[df[\"fire_insurance\"] > 70][\"city\"].value_counts()"
   ]
  },
  {
   "cell_type": "code",
   "execution_count": 51,
   "metadata": {},
   "outputs": [
    {
     "data": {
      "text/html": [
       "<div>\n",
       "<style scoped>\n",
       "    .dataframe tbody tr th:only-of-type {\n",
       "        vertical-align: middle;\n",
       "    }\n",
       "\n",
       "    .dataframe tbody tr th {\n",
       "        vertical-align: top;\n",
       "    }\n",
       "\n",
       "    .dataframe thead th {\n",
       "        text-align: right;\n",
       "    }\n",
       "</style>\n",
       "<table border=\"1\" class=\"dataframe\">\n",
       "  <thead>\n",
       "    <tr style=\"text-align: right;\">\n",
       "      <th></th>\n",
       "      <th>city</th>\n",
       "      <th>area</th>\n",
       "      <th>rooms</th>\n",
       "      <th>bathroom</th>\n",
       "      <th>parking_spaces</th>\n",
       "      <th>floor</th>\n",
       "      <th>animal</th>\n",
       "      <th>furniture</th>\n",
       "      <th>homeowner_tax</th>\n",
       "      <th>rent_amount</th>\n",
       "      <th>property_tax</th>\n",
       "      <th>fire_insurance</th>\n",
       "      <th>total</th>\n",
       "    </tr>\n",
       "  </thead>\n",
       "  <tbody>\n",
       "    <tr>\n",
       "      <th>1936</th>\n",
       "      <td>Belo Horizonte</td>\n",
       "      <td>80</td>\n",
       "      <td>3</td>\n",
       "      <td>2</td>\n",
       "      <td>2</td>\n",
       "      <td>301</td>\n",
       "      <td>acept</td>\n",
       "      <td>not furnished</td>\n",
       "      <td>750</td>\n",
       "      <td>2600</td>\n",
       "      <td>164</td>\n",
       "      <td>35</td>\n",
       "      <td>3549</td>\n",
       "    </tr>\n",
       "    <tr>\n",
       "      <th>4392</th>\n",
       "      <td>Campinas</td>\n",
       "      <td>64</td>\n",
       "      <td>2</td>\n",
       "      <td>2</td>\n",
       "      <td>2</td>\n",
       "      <td>51</td>\n",
       "      <td>acept</td>\n",
       "      <td>not furnished</td>\n",
       "      <td>800</td>\n",
       "      <td>1900</td>\n",
       "      <td>129</td>\n",
       "      <td>25</td>\n",
       "      <td>2854</td>\n",
       "    </tr>\n",
       "    <tr>\n",
       "      <th>1230</th>\n",
       "      <td>Sao Paulo</td>\n",
       "      <td>353</td>\n",
       "      <td>4</td>\n",
       "      <td>5</td>\n",
       "      <td>5</td>\n",
       "      <td>46</td>\n",
       "      <td>acept</td>\n",
       "      <td>not furnished</td>\n",
       "      <td>3000</td>\n",
       "      <td>10000</td>\n",
       "      <td>0</td>\n",
       "      <td>127</td>\n",
       "      <td>13130</td>\n",
       "    </tr>\n",
       "    <tr>\n",
       "      <th>7844</th>\n",
       "      <td>Sao Paulo</td>\n",
       "      <td>51</td>\n",
       "      <td>1</td>\n",
       "      <td>1</td>\n",
       "      <td>0</td>\n",
       "      <td>32</td>\n",
       "      <td>not acept</td>\n",
       "      <td>not furnished</td>\n",
       "      <td>429</td>\n",
       "      <td>3250</td>\n",
       "      <td>37</td>\n",
       "      <td>42</td>\n",
       "      <td>3758</td>\n",
       "    </tr>\n",
       "    <tr>\n",
       "      <th>4257</th>\n",
       "      <td>Belo Horizonte</td>\n",
       "      <td>305</td>\n",
       "      <td>4</td>\n",
       "      <td>5</td>\n",
       "      <td>5</td>\n",
       "      <td>29</td>\n",
       "      <td>acept</td>\n",
       "      <td>not furnished</td>\n",
       "      <td>4596</td>\n",
       "      <td>14000</td>\n",
       "      <td>2239</td>\n",
       "      <td>187</td>\n",
       "      <td>21020</td>\n",
       "    </tr>\n",
       "  </tbody>\n",
       "</table>\n",
       "</div>"
      ],
      "text/plain": [
       "                city  area  rooms  bathroom  parking_spaces  floor     animal  \\\n",
       "1936  Belo Horizonte    80      3         2               2    301      acept   \n",
       "4392        Campinas    64      2         2               2     51      acept   \n",
       "1230       Sao Paulo   353      4         5               5     46      acept   \n",
       "7844       Sao Paulo    51      1         1               0     32  not acept   \n",
       "4257  Belo Horizonte   305      4         5               5     29      acept   \n",
       "\n",
       "          furniture  homeowner_tax  rent_amount  property_tax  fire_insurance  \\\n",
       "1936  not furnished            750         2600           164              35   \n",
       "4392  not furnished            800         1900           129              25   \n",
       "1230  not furnished           3000        10000             0             127   \n",
       "7844  not furnished            429         3250            37              42   \n",
       "4257  not furnished           4596        14000          2239             187   \n",
       "\n",
       "      total  \n",
       "1936   3549  \n",
       "4392   2854  \n",
       "1230  13130  \n",
       "7844   3758  \n",
       "4257  21020  "
      ]
     },
     "execution_count": 51,
     "metadata": {},
     "output_type": "execute_result"
    }
   ],
   "source": [
    "# 5. 5 data rumah dengan jumlah lantai terbanyak yang belum dilengkapi furnitur (not furnished)\n",
    "df.loc[df[\"furniture\"] == \"not furnished\"].sort_values(\"floor\", ascending=0)[:5]"
   ]
  }
 ],
 "metadata": {
  "interpreter": {
   "hash": "69b26905fdf7ac2e769288cb61fecce4baeaa80dfbdad78be095bab9cb8d315d"
  },
  "kernelspec": {
   "display_name": "Python 3.9.9 64-bit (windows store)",
   "language": "python",
   "name": "python3"
  },
  "language_info": {
   "codemirror_mode": {
    "name": "ipython",
    "version": 3
   },
   "file_extension": ".py",
   "mimetype": "text/x-python",
   "name": "python",
   "nbconvert_exporter": "python",
   "pygments_lexer": "ipython3",
   "version": "3.9.9"
  },
  "orig_nbformat": 4
 },
 "nbformat": 4,
 "nbformat_minor": 2
}
